{
 "cells": [
  {
   "cell_type": "code",
   "execution_count": 1,
   "metadata": {},
   "outputs": [],
   "source": [
    "import scipy\n",
    "import numpy as np\n",
    "import matplotlib\n",
    "import pandas as pd\n",
    "import sklearn\n",
    "import statsmodels"
   ]
  },
  {
   "cell_type": "code",
   "execution_count": 2,
   "metadata": {
    "scrolled": true
   },
   "outputs": [
    {
     "data": {
      "text/html": [
       "<div>\n",
       "<style scoped>\n",
       "    .dataframe tbody tr th:only-of-type {\n",
       "        vertical-align: middle;\n",
       "    }\n",
       "\n",
       "    .dataframe tbody tr th {\n",
       "        vertical-align: top;\n",
       "    }\n",
       "\n",
       "    .dataframe thead th {\n",
       "        text-align: right;\n",
       "    }\n",
       "</style>\n",
       "<table border=\"1\" class=\"dataframe\">\n",
       "  <thead>\n",
       "    <tr style=\"text-align: right;\">\n",
       "      <th></th>\n",
       "      <th>month</th>\n",
       "      <th>parking_counts</th>\n",
       "    </tr>\n",
       "  </thead>\n",
       "  <tbody>\n",
       "    <tr>\n",
       "      <th>176</th>\n",
       "      <td>2002-01</td>\n",
       "      <td>349019.0</td>\n",
       "    </tr>\n",
       "    <tr>\n",
       "      <th>175</th>\n",
       "      <td>2002-02</td>\n",
       "      <td>301327.0</td>\n",
       "    </tr>\n",
       "    <tr>\n",
       "      <th>174</th>\n",
       "      <td>2002-03</td>\n",
       "      <td>367110.0</td>\n",
       "    </tr>\n",
       "    <tr>\n",
       "      <th>173</th>\n",
       "      <td>2002-04</td>\n",
       "      <td>355947.0</td>\n",
       "    </tr>\n",
       "    <tr>\n",
       "      <th>172</th>\n",
       "      <td>2002-05</td>\n",
       "      <td>370167.0</td>\n",
       "    </tr>\n",
       "    <tr>\n",
       "      <th>...</th>\n",
       "      <td>...</td>\n",
       "      <td>...</td>\n",
       "    </tr>\n",
       "    <tr>\n",
       "      <th>4</th>\n",
       "      <td>2016-05</td>\n",
       "      <td>352086.0</td>\n",
       "    </tr>\n",
       "    <tr>\n",
       "      <th>3</th>\n",
       "      <td>2016-06</td>\n",
       "      <td>375360.0</td>\n",
       "    </tr>\n",
       "    <tr>\n",
       "      <th>2</th>\n",
       "      <td>2016-07</td>\n",
       "      <td>425571.0</td>\n",
       "    </tr>\n",
       "    <tr>\n",
       "      <th>1</th>\n",
       "      <td>2016-08</td>\n",
       "      <td>423183.0</td>\n",
       "    </tr>\n",
       "    <tr>\n",
       "      <th>0</th>\n",
       "      <td>2016-09</td>\n",
       "      <td>346183.0</td>\n",
       "    </tr>\n",
       "  </tbody>\n",
       "</table>\n",
       "<p>177 rows × 2 columns</p>\n",
       "</div>"
      ],
      "text/plain": [
       "       month  parking_counts\n",
       "176  2002-01        349019.0\n",
       "175  2002-02        301327.0\n",
       "174  2002-03        367110.0\n",
       "173  2002-04        355947.0\n",
       "172  2002-05        370167.0\n",
       "..       ...             ...\n",
       "4    2016-05        352086.0\n",
       "3    2016-06        375360.0\n",
       "2    2016-07        425571.0\n",
       "1    2016-08        423183.0\n",
       "0    2016-09        346183.0\n",
       "\n",
       "[177 rows x 2 columns]"
      ]
     },
     "execution_count": 2,
     "metadata": {},
     "output_type": "execute_result"
    }
   ],
   "source": [
    "input_csv = '../datasets/port_monthly/public-parking-counts-at-port-authority-of-ny-nj-airports-beginning-2002-1.csv'\n",
    "series = pd.read_csv(input_csv, header=0, index_col=0, parse_dates=True, squeeze=True)\n",
    "\n",
    "series = series.rename(columns={\"Public Parking Counts at PA Airports \": \"parking_counts\"})\n",
    "\n",
    "series = series.replace({'parking_counts': 0}, np.nan)\n",
    "series = series.dropna()\n",
    "\n",
    "series = series.loc[series.index == \"Kennedy International Airport\"]\n",
    "\n",
    "series['Date'] = pd.to_datetime(series.assign(Day=1).loc[:, ['Year','Month','Day']])\n",
    "series = series.drop(columns=['Year','Month'])\n",
    "series = series.reset_index(drop=True)\n",
    "\n",
    "series['month'] = series['Date'].dt.strftime('%Y-%m')\n",
    "series = series.drop(columns=['Date'])\n",
    "\n",
    "series = series[['month', 'parking_counts']]\n",
    "\n",
    "series = series.sort_values(by=['month'])\n",
    "\n",
    "series"
   ]
  },
  {
   "cell_type": "code",
   "execution_count": 4,
   "metadata": {},
   "outputs": [
    {
     "name": "stdout",
     "output_type": "stream",
     "text": [
      "Dataset 165, Validation 12\n"
     ]
    }
   ],
   "source": [
    "export_csv = '../datasets/port_monthly/Kennedy International Airport FullDataset.csv'\n",
    "export_csv1 = '../datasets/port_monthly/Kennedy International Airport TrainTest.csv'\n",
    "export_csv2 = '../datasets/port_monthly/Kennedy International Airport Validation.csv'\n",
    "\n",
    "split_point = len(series) - 12\n",
    "dataset, validation = series[0:split_point], series[split_point:]\n",
    "print('Dataset %d, Validation %d' % (len(dataset), len(validation)))\n",
    "series.to_csv(export_csv, header=False, index=False)\n",
    "dataset.to_csv(export_csv1, header=False, index=False)\n",
    "validation.to_csv(export_csv2, header=False, index=False)"
   ]
  },
  {
   "cell_type": "code",
   "execution_count": null,
   "metadata": {},
   "outputs": [],
   "source": []
  },
  {
   "cell_type": "code",
   "execution_count": null,
   "metadata": {},
   "outputs": [],
   "source": []
  },
  {
   "cell_type": "code",
   "execution_count": null,
   "metadata": {},
   "outputs": [],
   "source": []
  }
 ],
 "metadata": {
  "kernelspec": {
   "display_name": "Python 3",
   "language": "python",
   "name": "python3"
  },
  "language_info": {
   "codemirror_mode": {
    "name": "ipython",
    "version": 3
   },
   "file_extension": ".py",
   "mimetype": "text/x-python",
   "name": "python",
   "nbconvert_exporter": "python",
   "pygments_lexer": "ipython3",
   "version": "3.7.6"
  }
 },
 "nbformat": 4,
 "nbformat_minor": 4
}
